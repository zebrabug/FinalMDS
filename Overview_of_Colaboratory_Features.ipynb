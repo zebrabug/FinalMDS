{
  "cells": [
    {
      "cell_type": "markdown",
      "metadata": {
        "id": "view-in-github",
        "colab_type": "text"
      },
      "source": [
        "<a href=\"https://colab.research.google.com/github/zebrabug/FinalMDS/blob/master/Overview_of_Colaboratory_Features.ipynb\" target=\"_parent\"><img src=\"https://colab.research.google.com/assets/colab-badge.svg\" alt=\"Open In Colab\"/></a>"
      ]
    },
    {
      "cell_type": "markdown",
      "metadata": {
        "id": "JyG45Qk3qQLS"
      },
      "source": [
        "# Cells\n",
        "A notebook is a list of cells. Cells contain either explanatory text or executable code and its output. Click a cell to select it."
      ]
    },
    {
      "cell_type": "code",
      "source": [
        "from google.colab import drive\n",
        "drive.mount('/content/drive')"
      ],
      "metadata": {
        "id": "hFXWC7EyZ0Vn",
        "outputId": "996286f4-0fd0-4b9c-9211-3c448120f76e",
        "colab": {
          "base_uri": "https://localhost:8080/"
        }
      },
      "execution_count": 1,
      "outputs": [
        {
          "output_type": "stream",
          "name": "stdout",
          "text": [
            "Mounted at /content/drive\n"
          ]
        }
      ]
    },
    {
      "cell_type": "markdown",
      "metadata": {
        "id": "KR921S_OQSHG"
      },
      "source": [
        "## Code cells\n",
        "Below is a **code cell**. Once the toolbar button indicates CONNECTED, click in the cell to select it and execute the contents in the following ways:\n",
        "\n",
        "* Click the **Play icon** in the left gutter of the cell;\n",
        "* Type **Cmd/Ctrl+Enter** to run the cell in place;\n",
        "* Type **Shift+Enter** to run the cell and move focus to the next cell (adding one if none exists); or\n",
        "* Type **Alt+Enter** to run the cell and insert a new code cell immediately below it.\n",
        "\n",
        "There are additional options for running some or all cells in the **Runtime** menu.\n"
      ]
    },
    {
      "cell_type": "code",
      "execution_count": null,
      "metadata": {
        "cellView": "both",
        "colab": {
          "height": 35
        },
        "id": "WUtu4316QSHL",
        "outputId": "67bdf0c3-d76f-4226-fc34-a2f2d0eba60b"
      },
      "outputs": [
        {
          "data": {
            "text/plain": [
              "10"
            ]
          },
          "execution_count": null,
          "metadata": {
            "tags": []
          },
          "output_type": "execute_result"
        }
      ],
      "source": [
        "a = 10\n",
        "a"
      ]
    },
    {
      "cell_type": "markdown",
      "metadata": {
        "id": "Id6tDF1HQSHD"
      },
      "source": [
        "## Text cells\n",
        "This is a **text cell**. You can **double-click** to edit this cell. Text cells\n",
        "use markdown syntax. To learn more, see our [markdown\n",
        "guide](/notebooks/markdown_guide.ipynb).\n",
        "\n",
        "You can also add math to text cells using [LaTeX](http://www.latex-project.org/)\n",
        "to be rendered by [MathJax](https://www.mathjax.org). Just place the statement\n",
        "within a pair of **\\$** signs. For example `$\\sqrt{3x-1}+(1+x)^2$` becomes\n",
        "$\\sqrt{3x-1}+(1+x)^2.$\n"
      ]
    },
    {
      "cell_type": "markdown",
      "metadata": {
        "id": "7bqjkGKwQSHW"
      },
      "source": [
        "## Adding and moving cells\n",
        "You can add new cells by using the **+ CODE** and **+ TEXT** buttons that show when you hover between cells. These buttons are also in the toolbar above the notebook where they can be used to add a cell below the currently selected cell.\n",
        "\n",
        "You can move a cell by selecting it and clicking **Cell Up** or **Cell Down** in the top toolbar.\n",
        "\n",
        "Consecutive cells can be selected by \"lasso selection\" by dragging from outside one cell and through the group.  Non-adjacent cells can be selected concurrently by clicking one and then holding down Ctrl while clicking another.  Similarly, using Shift instead of Ctrl will select all intermediate cells."
      ]
    },
    {
      "cell_type": "markdown",
      "metadata": {
        "id": "GOwlZRXEQSHZ"
      },
      "source": [
        "# Working with python\n",
        "Colaboratory is built on top of [Jupyter Notebook](https://jupyter.org/). Below are some examples of convenience functions provided."
      ]
    },
    {
      "cell_type": "markdown",
      "metadata": {
        "id": "RVuqWUXPQSHa"
      },
      "source": [
        "Long running python processes can be interrupted. Run the following cell and select **Runtime -> Interrupt execution** (*hotkey: Cmd/Ctrl-M I*) to stop execution."
      ]
    },
    {
      "cell_type": "code",
      "execution_count": null,
      "metadata": {
        "cellView": "both",
        "colab": {
          "height": 244
        },
        "id": "d-S-3nYLQSHb",
        "outputId": "38d534fc-8b61-4f9f-d731-74b23aadb5bc"
      },
      "outputs": [
        {
          "name": "stdout",
          "output_type": "stream",
          "text": [
            "Sleeping\n"
          ]
        },
        {
          "ename": "KeyboardInterrupt",
          "evalue": "ignored",
          "output_type": "error",
          "traceback": [
            "\u001b[1;31m---------------------------------------------------------------------------\u001b[0m\n\u001b[1;31mKeyboardInterrupt\u001b[0m                         Traceback (most recent call last)",
            "\u001b[1;32m<ipython-input-3-626f81edbca4>\u001b[0m in \u001b[0;36m<module>\u001b[1;34m()\u001b[0m\n\u001b[0;32m      1\u001b[0m \u001b[1;32mimport\u001b[0m \u001b[0mtime\u001b[0m\u001b[1;33m\u001b[0m\u001b[0m\n\u001b[0;32m      2\u001b[0m \u001b[1;32mprint\u001b[0m \u001b[1;34m\"Sleeping\"\u001b[0m\u001b[1;33m\u001b[0m\u001b[0m\n\u001b[1;32m----> 3\u001b[1;33m \u001b[0mtime\u001b[0m\u001b[1;33m.\u001b[0m\u001b[0msleep\u001b[0m\u001b[1;33m(\u001b[0m\u001b[1;36m30\u001b[0m\u001b[1;33m)\u001b[0m \u001b[1;31m# sleep for a while; interrupt me!\u001b[0m\u001b[1;33m\u001b[0m\u001b[0m\n\u001b[0m\u001b[0;32m      4\u001b[0m \u001b[1;32mprint\u001b[0m \u001b[1;34m\"Done Sleeping\"\u001b[0m\u001b[1;33m\u001b[0m\u001b[0m\n",
            "\u001b[1;31mKeyboardInterrupt\u001b[0m: "
          ]
        }
      ],
      "source": [
        "import time\n",
        "print(\"Sleeping\")\n",
        "time.sleep(30) # sleep for a while; interrupt me!\n",
        "print(\"Done Sleeping\")"
      ]
    },
    {
      "cell_type": "markdown",
      "metadata": {
        "id": "Wej_mEyXQSHc"
      },
      "source": [
        "## System aliases\n",
        "\n",
        "Jupyter includes shortcuts for common operations, such as ls:"
      ]
    },
    {
      "cell_type": "code",
      "execution_count": null,
      "metadata": {
        "cellView": "both",
        "colab": {
          "height": 323
        },
        "id": "5OCYEvK5QSHf",
        "outputId": "2ee8ae66-72ed-425c-e20b-bc5ac307ef3e"
      },
      "outputs": [
        {
          "name": "stdout",
          "output_type": "stream",
          "text": [
            "\u001b[0m\u001b[01;36march\u001b[0m@      \u001b[01;32mdmesg\u001b[0m*          \u001b[01;32mls\u001b[0m*          \u001b[01;32mpwd\u001b[0m*        \u001b[01;32mtrue\u001b[0m*\r\n",
            "\u001b[01;36mawk\u001b[0m@       \u001b[01;32mdnsdomainname\u001b[0m*  \u001b[01;32mlsmod\u001b[0m*       \u001b[01;32mreadlink\u001b[0m*   \u001b[01;32mumount\u001b[0m*\r\n",
            "\u001b[01;36mbasename\u001b[0m@  \u001b[01;32mdomainname\u001b[0m*     \u001b[01;32mmail\u001b[0m*        \u001b[01;36mred\u001b[0m@        \u001b[01;32muname\u001b[0m*\r\n",
            "\u001b[01;32mbash\u001b[0m*      \u001b[01;32mecho\u001b[0m*           \u001b[01;32mmkdir\u001b[0m*       \u001b[01;32mrm\u001b[0m*         \u001b[01;32muncompress\u001b[0m*\r\n",
            "\u001b[01;36mbunzip2\u001b[0m@   \u001b[01;36med\u001b[0m@             \u001b[01;32mmknod\u001b[0m*       \u001b[01;32mrmdir\u001b[0m*      \u001b[01;32musleep\u001b[0m*\r\n",
            "\u001b[01;32mbusybox\u001b[0m*   \u001b[01;32megrep\u001b[0m*          \u001b[01;32mmktemp\u001b[0m*      \u001b[01;32mrun-parts\u001b[0m*  \u001b[01;32mver\u001b[0m*\r\n",
            "\u001b[01;36mbzip2\u001b[0m@     \u001b[01;32mfalse\u001b[0m*          \u001b[01;32mmore\u001b[0m*        \u001b[01;32msed\u001b[0m*        \u001b[01;32mwhich\u001b[0m*\r\n",
            "\u001b[01;32mcat\u001b[0m*       \u001b[01;32mfgrep\u001b[0m*          \u001b[01;32mmount\u001b[0m*       \u001b[01;36msh\u001b[0m@         \u001b[01;34mwrapper_checkpoints\u001b[0m/\r\n",
            "\u001b[01;32mchgrp\u001b[0m*     \u001b[01;36mgawk\u001b[0m@           \u001b[01;32mmountpoint\u001b[0m*  \u001b[01;32msleep\u001b[0m*      \u001b[01;32mzcat\u001b[0m*\r\n",
            "\u001b[01;32mchmod\u001b[0m*     \u001b[01;32mgrep\u001b[0m*           \u001b[01;32mmv\u001b[0m*          \u001b[01;36msort\u001b[0m@       \u001b[01;32mzcmp\u001b[0m*\r\n",
            "\u001b[01;32mchown\u001b[0m*     \u001b[01;32mgunzip\u001b[0m*         \u001b[01;32mnc\u001b[0m*          \u001b[01;32mstty\u001b[0m*       \u001b[01;32mzdiff\u001b[0m*\r\n",
            "\u001b[01;32mcp\u001b[0m*        \u001b[01;32mgzexe\u001b[0m*          \u001b[01;36mnetcat\u001b[0m@      \u001b[01;32msu\u001b[0m*         \u001b[01;32mzegrep\u001b[0m*\r\n",
            "\u001b[01;32mcpio\u001b[0m*      \u001b[01;32mgzip\u001b[0m*           \u001b[01;32mnetstat\u001b[0m*     \u001b[01;32msync\u001b[0m*       \u001b[01;32mzfgrep\u001b[0m*\r\n",
            "\u001b[01;36mcsh\u001b[0m@       \u001b[01;32mhostname\u001b[0m*       \u001b[01;36mnice\u001b[0m@        \u001b[01;32mtailf\u001b[0m*      \u001b[01;32mzforce\u001b[0m*\r\n",
            "\u001b[01;36mcut\u001b[0m@       \u001b[01;36migawk\u001b[0m@          \u001b[01;36mpidof\u001b[0m@       \u001b[01;32mtar\u001b[0m*        \u001b[01;32mzgrep\u001b[0m*\r\n",
            "\u001b[01;32mdate\u001b[0m*      \u001b[01;32mkill\u001b[0m*           \u001b[01;32mping\u001b[0m*        \u001b[01;36mtcsh\u001b[0m@       \u001b[01;32mzless\u001b[0m*\r\n",
            "\u001b[01;32mdd\u001b[0m*        \u001b[01;32mln\u001b[0m*             \u001b[01;32mping6\u001b[0m*       \u001b[01;32mtempfile\u001b[0m*   \u001b[01;32mzmore\u001b[0m*\r\n",
            "\u001b[01;32mdf\u001b[0m*        \u001b[01;32mlogin\u001b[0m*          \u001b[01;32mps\u001b[0m*          \u001b[01;32mtouch\u001b[0m*      \u001b[01;32mznew\u001b[0m*\r\n"
          ]
        }
      ],
      "source": [
        "!ls /bin"
      ]
    },
    {
      "cell_type": "markdown",
      "metadata": {
        "id": "y8Da6JWKQSHh"
      },
      "source": [
        "That `!ls` probably generated a large output. You can select the cell and clear the output by either:\n",
        "\n",
        "1. Clicking on the clear output button (x) in the toolbar above the cell; or\n",
        "2. Right clicking the left gutter of the output area and selecting \"Clear output\" from the context menu.\n",
        "\n",
        "Execute any other process using `!` with string interpolation from python variables, and note the result can be assigned to a variable:"
      ]
    },
    {
      "cell_type": "code",
      "execution_count": null,
      "metadata": {
        "cellView": "both",
        "id": "zqGrv0blQSHj",
        "outputId": "584f105e-52a5-475e-dded-00caddc8fce8"
      },
      "outputs": [
        {
          "data": {
            "text/plain": [
              "['Colaboratory is great!',\n",
              " 'Colaboratory is great!',\n",
              " 'Colaboratory is great!',\n",
              " 'Colaboratory is great!']"
            ]
          },
          "execution_count": null,
          "metadata": {},
          "output_type": "execute_result"
        }
      ],
      "source": [
        "# In https://github.com/ipython/ipython/pull/10545, single quote strings are ignored\n",
        "message = 'Colaboratory is great!'\n",
        "foo = !unset message && echo -e '{message}\\n{message}\\n'$message\"\\n$message\"\n",
        "foo"
      ]
    },
    {
      "cell_type": "markdown",
      "metadata": {
        "id": "qM4myQGfQboQ"
      },
      "source": [
        "## Magics\n",
        "Colaboratory shares the notion of magics from Jupyter. There are shorthand annotations that change how a cell's text is executed. To learn more, see [Jupyter's magics page](http://nbviewer.jupyter.org/github/ipython/ipython/blob/1.x/examples/notebooks/Cell%20Magics.ipynb).\n"
      ]
    },
    {
      "cell_type": "code",
      "execution_count": null,
      "metadata": {
        "cellView": "both",
        "colab": {
          "height": 38
        },
        "id": "odfM-_GxWbCy",
        "outputId": "3f059816-dc25-4670-ca46-e2ee50a9490e"
      },
      "outputs": [
        {
          "data": {
            "text/html": [
              "<marquee style='width: 30%; color: blue;'><b>Whee!</b></marquee>"
            ],
            "text/plain": [
              "<IPython.core.display.HTML at 0x558e1385fc10>"
            ]
          },
          "metadata": {
            "tags": []
          },
          "output_type": "display_data"
        }
      ],
      "source": [
        "%%html\n",
        "<marquee style='width: 30%; color: blue;'><b>Whee!</b></marquee>"
      ]
    },
    {
      "cell_type": "code",
      "execution_count": null,
      "metadata": {
        "colab": {
          "height": 221
        },
        "id": "_YrTcK7k22Fp",
        "outputId": "bb3a69dd-49b7-4a6c-966a-64f77007a525"
      },
      "outputs": [
        {
          "data": {
            "text/html": [
              "<svg xmlns=\"http://www.w3.org/2000/svg\" viewBox=\"0 0 450 400\" width=\"200\" height=\"200\">\n",
              "  <rect x=\"80\" y=\"60\" width=\"250\" height=\"250\" rx=\"20\" style=\"fill:red; stroke:black; fill-opacity:0.7\" />\n",
              "  <rect x=\"180\" y=\"110\" width=\"250\" height=\"250\" rx=\"40\" style=\"fill:blue; stroke:black; fill-opacity:0.5;\" />\n",
              "</svg>"
            ],
            "text/plain": [
              "<IPython.core.display.HTML at 0x5636f4dd54d0>"
            ]
          },
          "metadata": {
            "tags": []
          },
          "output_type": "display_data"
        }
      ],
      "source": [
        "%%html\n",
        "<svg xmlns=\"http://www.w3.org/2000/svg\" viewBox=\"0 0 450 400\" width=\"200\" height=\"200\">\n",
        "  <rect x=\"80\" y=\"60\" width=\"250\" height=\"250\" rx=\"20\" style=\"fill:red; stroke:black; fill-opacity:0.7\" />\n",
        "  <rect x=\"180\" y=\"110\" width=\"250\" height=\"250\" rx=\"40\" style=\"fill:blue; stroke:black; fill-opacity:0.5;\" />\n",
        "</svg>"
      ]
    },
    {
      "cell_type": "markdown",
      "metadata": {
        "id": "d4L9TOP9QSHn"
      },
      "source": [
        "## Automatic completions and exploring code\n",
        "\n",
        "Colab provides automatic completions to explore attributes of Python objects, as well as to quickly view documentation strings. As an example, first run the following cell to import the  [`numpy`](http://www.numpy.org) module."
      ]
    },
    {
      "cell_type": "code",
      "execution_count": null,
      "metadata": {
        "cellView": "both",
        "id": "Q0JKWcmtQSHp"
      },
      "outputs": [],
      "source": [
        "import numpy as np"
      ]
    },
    {
      "cell_type": "markdown",
      "metadata": {
        "id": "1M890-bXeyYp"
      },
      "source": [
        "If you now insert your cursor after `np` and press **Period**(`.`), you will see the list of available completions within the `np` module. Completions can be opened again by using **Ctrl+Space**."
      ]
    },
    {
      "cell_type": "code",
      "execution_count": null,
      "metadata": {
        "cellView": "both",
        "id": "j6QRIfUHQSHq"
      },
      "outputs": [],
      "source": [
        "np"
      ]
    },
    {
      "cell_type": "markdown",
      "metadata": {
        "id": "g6MfomFhQSHs"
      },
      "source": [
        "If you type an open parenthesis after any function or class in the module, you will see a pop-up of its documentation string:"
      ]
    },
    {
      "cell_type": "code",
      "execution_count": null,
      "metadata": {
        "cellView": "both",
        "id": "SD0XnrVhQSHt"
      },
      "outputs": [],
      "source": [
        "np.ndarray"
      ]
    },
    {
      "cell_type": "markdown",
      "metadata": {
        "id": "GVIVDgdaRjPQ"
      },
      "source": [
        "The documentation can be opened again using **Ctrl+Shift+Space** or you can view the documentation for method by mouse hovering over the method name.\n",
        "\n",
        "When hovering over the method name the `Open in tab` link will open the documentation in a persistent pane. The `View source` link will navigate to the source code for the method."
      ]
    },
    {
      "cell_type": "markdown",
      "metadata": {
        "id": "TYTBdJXxfqiJ"
      },
      "source": [
        "## Exception Formatting"
      ]
    },
    {
      "cell_type": "markdown",
      "metadata": {
        "id": "4bqAVK-aQSHx"
      },
      "source": [
        "Exceptions are formatted nicely in Colab outputs:"
      ]
    },
    {
      "cell_type": "code",
      "execution_count": null,
      "metadata": {
        "cellView": "both",
        "id": "CrJf1PEmQSHx",
        "outputId": "a8c7a413-a1e6-49f1-c7b5-58986eff5047"
      },
      "outputs": [
        {
          "ename": "ZeroDivisionError",
          "evalue": "",
          "output_type": "error",
          "traceback": [
            "\u001b[1;31m---------------------------------------------------------------------------\u001b[0m\n\u001b[1;31mZeroDivisionError\u001b[0m                         Traceback (most recent call last)",
            "\u001b[1;32m<ipython-input-14-dc39888fd1d2>\u001b[0m in \u001b[0;36m<module>\u001b[1;34m()\u001b[0m\n\u001b[0;32m      1\u001b[0m \u001b[0mx\u001b[0m \u001b[1;33m=\u001b[0m \u001b[1;36m1\u001b[0m\u001b[1;33m\u001b[0m\u001b[0m\n\u001b[0;32m      2\u001b[0m \u001b[0my\u001b[0m \u001b[1;33m=\u001b[0m \u001b[1;36m4\u001b[0m\u001b[1;33m\u001b[0m\u001b[0m\n\u001b[1;32m----> 3\u001b[1;33m \u001b[0mz\u001b[0m \u001b[1;33m=\u001b[0m \u001b[0my\u001b[0m\u001b[1;33m/\u001b[0m\u001b[1;33m(\u001b[0m\u001b[1;36m1\u001b[0m\u001b[1;33m-\u001b[0m\u001b[0mx\u001b[0m\u001b[1;33m)\u001b[0m\u001b[1;33m\u001b[0m\u001b[0m\n\u001b[0m",
            "\u001b[1;31mZeroDivisionError\u001b[0m: integer division or modulo by zero"
          ]
        }
      ],
      "source": [
        "x = 1\n",
        "y = 4\n",
        "z = y/(1-x)"
      ]
    },
    {
      "cell_type": "markdown",
      "metadata": {
        "id": "7cRnhv_7N4Pa"
      },
      "source": [
        "## Rich, interactive outputs\n",
        "Until now all of the generated outputs have been text, but they can be more interesting, like the chart below."
      ]
    },
    {
      "cell_type": "code",
      "execution_count": null,
      "metadata": {
        "colab": {
          "height": 280
        },
        "id": "JVXnTqyE9RET",
        "outputId": "38836587-a7cf-4a14-f5eb-cfdd321d82b8"
      },
      "outputs": [
        {
          "data": {
            "image/png": "[encoded data removed]",
            "text/plain": [
              "<Figure size 432x288 with 1 Axes>"
            ]
          },
          "metadata": {
            "image/png": {
              "height": 263,
              "width": 375
            },
            "needs_background": "light"
          },
          "output_type": "display_data"
        }
      ],
      "source": [
        "import numpy as np\n",
        "from matplotlib import pyplot as plt\n",
        "\n",
        "ys = 200 + np.random.randn(100)\n",
        "x = [x for x in range(len(ys))]\n",
        "\n",
        "plt.plot(x, ys, '-')\n",
        "plt.fill_between(x, ys, 195, where=(ys > 195), facecolor='g', alpha=0.6)\n",
        "\n",
        "plt.title(\"Fills and Alpha Example\")\n",
        "plt.show()"
      ]
    },
    {
      "cell_type": "markdown",
      "metadata": {
        "id": "aro-UJgUQSH1"
      },
      "source": [
        "# Integration with Drive\n",
        "\n",
        "Colaboratory is integrated with Google Drive. It allows you to share, comment, and collaborate on the same document with multiple people:\n",
        "\n",
        "* The **SHARE** button (top-right of the toolbar) allows you to share the notebook and control permissions set on it.\n",
        "\n",
        "* **File->Make a Copy** creates a copy of the notebook in Drive.\n",
        "\n",
        "* **File->Save** saves the File to Drive. **File->Save and checkpoint** pins the version so it doesn't get deleted from the revision history.\n",
        "\n",
        "* **File->Revision history** shows the notebook's revision history."
      ]
    },
    {
      "cell_type": "markdown",
      "metadata": {
        "id": "4hfV37gxpP_c"
      },
      "source": [
        "## Commenting on a cell\n",
        "You can comment on a Colaboratory notebook like you would on a Google Document. Comments are attached to cells, and are displayed next to the cell they refer to. If you have **comment-only** permissions, you will see a comment button on the top right of the cell when you hover over it.\n",
        "\n",
        "If you have edit or comment permissions you can comment on a cell in one of three ways:\n",
        "\n",
        "1. Select a cell and click the comment button in the toolbar above the top-right corner of the cell.\n",
        "1. Right click a text cell and select **Add a comment** from the context menu.\n",
        "3. Use the shortcut **Ctrl+Shift+M** to add a comment to the currently selected cell.\n",
        "\n",
        "You can resolve and reply to comments, and you can target comments to specific collaborators by typing *+[email address]* (e.g., `+user@domain.com`). Addressed collaborators will be emailed.\n",
        "\n",
        "The Comment button in the top-right corner of the page shows all comments attached to the notebook."
      ]
    },
    {
      "cell_type": "code",
      "source": [
        "from datetime import datetime, timezone, timedelta\n",
        "from datetime import time as time_class  # Import time class with different name\n",
        "import os\n",
        "import sys\n",
        "import pandas as pd\n",
        "import numpy as np\n",
        "import pickle\n",
        "import pytz\n",
        "import time\n",
        "import logging\n",
        "\n",
        "from catboost import CatBoostRegressor\n",
        "from hw_write import Highway\n",
        "from pathlib import Path\n",
        "from get_logger import setup_logger\n",
        "\n",
        "sys.path.append(\"/data/AIGM/mdh_sdk_py/\")\n",
        "\n",
        "import clickhouse_connect\n",
        "\n",
        "from mdh_sdk_py.client.client import ClickHouseClient\n",
        "from mdh_sdk_py.client.grpc_utils import get_channel_secure\n",
        "\n",
        "# Set name of the futures\n",
        "SYMBOL = 'MXM5'\n",
        "TARGET_HW_TICKER = f'MDH.ADVISORS.SENTIMENT_SECD_MIX_6_25'\n",
        "DATABASE = 'DERIVATIVES'\n",
        "DATETIME_FORMAT = '%Y-%m-%d %H:%M:%S.%f'\n",
        "TIMEZONE = \"Europe/Moscow\"\n",
        "CHUNK_SIZE_MINUTES = 30  # Download data in 60-minute chunks\n",
        "LOGGER = setup_logger('stream_logs', f'{SYMBOL}.log')\n",
        "symbol_name = f'{SYMBOL}'\n",
        "N_MODELS = 6\n",
        "\n",
        "channel = get_channel_secure(\n",
        "    root_certificate_path='certs/tls-ca-bundle.pem',\n",
        "    certificate_key_path='certs/21209172.key',\n",
        "    certificate_path='certs/21209172.cer',\n",
        "    host='mdh-grpc0.sigma.sbrf.ru:443'\n",
        ")\n",
        "\n",
        "client = clickhouse_connect.get_client(\n",
        "    host='mdh-ch3.sigma.sbrf.ru',\n",
        "    username='tereshchenko',\n",
        "    password='lVfWYqZugc'\n",
        ")\n",
        "\n",
        "cl = ClickHouseClient(channel)\n",
        "\n",
        "sys.path.insert(0, '/home/qcp_tech/my_packages/')\n",
        "\n",
        "# Initialize an empty list to store the loaded models\n",
        "models_list = []\n",
        "\n",
        "# Load the saved models into the list\n",
        "for i in range(N_MODELS):\n",
        "    model_path = f'catboost_model_{SYMBOL}_{i}'  # Path to the saved model\n",
        "    model = CatBoostRegressor()  # Initialize an empty CatBoost model\n",
        "    model.load_model(os.path.join(os.path.dirname(os.path.abspath(__file__)), model_path))\n",
        "    models_list.append(model)  # Add the model to the list\n",
        "\n",
        "# Initialize Highway\n",
        "hw = Highway(\"/data/packages/scripts/my_packages/HigwayAggregators/libHighway.so.2.1.2\", 1)\n",
        "hw.Subscribe(\"MDH.EFX_PRICES::CNYRUB_TOM\")\n",
        "\n",
        "# Load pickle file with quantiles\n",
        "with open(os.path.join(os.path.dirname(os.path.abspath(__file__)), f'quantiles_{SYMBOL}.pkl'), 'rb') as f:\n",
        "    quantiles_dict = pickle.load(f)\n",
        "\n",
        "\n",
        "def normalize(x):\n",
        "    \"\"\"\n",
        "    Normalize a value using the stored quantiles.\n",
        "    This function takes a value and normalizes it to a range of -1 to 1 using the stored quantiles.\n",
        "    Values below the 1st quantile are set to -1, values above the 99th quantile are set to 1, and values in between are scaled linearly.\n",
        "    Parameters:\n",
        "    x (float): The value to normalize\n",
        "    Returns:\n",
        "    float: The normalized value\n",
        "    \"\"\"\n",
        "    q1, q99 = quantiles_dict['q1'], quantiles_dict['q99']\n",
        "\n",
        "    if x < q1:\n",
        "        return -1\n",
        "    elif x > q99:\n",
        "        return 1\n",
        "    elif x < 0:\n",
        "        # Scale linearly between -1 and 0 for negative numbers\n",
        "        return  x / q1 * -1\n",
        "    else:\n",
        "        # Scale linearly between 0 and 1 for positive numbers\n",
        "        return x / q99\n",
        "\n",
        "\n",
        "def download_data(symbol, start_dt, end_dt):\n",
        "    \"\"\"Download data for a given symbol and period\"\"\"\n",
        "    vwap_data_loaded = pd.DataFrame()\n",
        "    trades_data_loaded = pd.DataFrame()\n",
        "    try:\n",
        "        vwap_data_loaded = cl.get_obvwap_volume(\n",
        "            start_time=start_dt,\n",
        "            end_time=end_dt,\n",
        "            db=DATABASE,\n",
        "            bucket_interval=30,\n",
        "            max_depth_share=100,\n",
        "            symbol=symbol,\n",
        "            units='minute',\n",
        "            trd_session_id='CETS'\n",
        "        )\n",
        "    except Exception as e:\n",
        "        print(f'Error downloading OBVWAP data for {symbol} from {start_dt} to {end_dt}: {e}')\n",
        "        pass\n",
        "    try:\n",
        "        trades_data_loaded = cl.get_trades(\n",
        "            db=DATABASE,\n",
        "            symbol=symbol,\n",
        "            start_time=start_dt,\n",
        "            end_time=end_dt,\n",
        "            trd_session_id='CETS'\n",
        "        )\n",
        "    except Exception as e:\n",
        "        print(f'Error downloading TRADES data for {symbol} from {start_dt} to {end_dt}: {e}')\n",
        "        pass\n",
        "    return vwap_data_loaded, trades_data_loaded\n",
        "\n",
        "\n",
        "def download_data_in_chunks(symbol_name, start_dt, end_dt, chunk_size_minutes):\n",
        "    \"\"\"\n",
        "    Download data in smaller chunks to avoid timeouts.\n",
        "    \"\"\"\n",
        "    vwap_chunks = []\n",
        "    trades_chunks = []\n",
        "\n",
        "    current_start = start_dt\n",
        "\n",
        "    while current_start < end_dt:\n",
        "        # Calculate end time for the current chunk\n",
        "        current_end = current_start + timedelta(minutes=chunk_size_minutes)\n",
        "        if current_end > end_dt:\n",
        "            current_end = end_dt\n",
        "\n",
        "        # Download data for the current chunk\n",
        "        print(f'Downloading data from {current_start} to {current_end}')\n",
        "        vwap_chunk, trades_chunk = download_data(symbol_name, current_start, current_end)\n",
        "\n",
        "        # Append the chunks to the lists\n",
        "        if not vwap_chunk.empty:\n",
        "            vwap_chunks.append(vwap_chunk)\n",
        "        if not trades_chunk.empty:\n",
        "            trades_chunks.append(trades_chunk)\n",
        "\n",
        "        # Move to the next chunk\n",
        "        current_start = current_end\n",
        "\n",
        "    # Concatenate all chunks into single DataFrames\n",
        "    vwap_data_loaded = pd.concat(vwap_chunks) if vwap_chunks else pd.DataFrame()\n",
        "    trades_data_loaded = pd.concat(trades_chunks) if trades_chunks else pd.DataFrame()\n",
        "\n",
        "    return vwap_data_loaded, trades_data_loaded\n",
        "\n",
        "\n",
        "def process_vwap_data(vwap_data):\n",
        "    \"\"\"Process VWAP data.\"\"\"\n",
        "    vwap_data = vwap_data.copy()\n",
        "    vwap_data['time'] = pd.to_datetime(vwap_data['time'])\n",
        "    vwap_data.set_index('time', inplace=True)\n",
        "    vwap_data.sort_index(inplace=True)\n",
        "    vwap_data.fillna(method='ffill', inplace=True)\n",
        "    # Filter by weekday (Monday to Friday)\n",
        "    vwap_data = vwap_data[vwap_data.index.weekday < 5]\n",
        "    # Filter by time (between 10:00 and 18:50)\n",
        "    vwap_data = vwap_data.between_time('10:00', '18:50')\n",
        "    vwap_data = vwap_data.loc[(vwap_data['ask_value'].shift() != vwap_data['ask_value']) | (vwap_data['bid_value'].shift() != vwap_data['bid_value'])]\n",
        "    vwap_data['MID_PRICE'] = (vwap_data['ask_value'] + vwap_data['bid_value']) / 2\n",
        "    vwap_data['price_30m_ago'] = vwap_data['MID_PRICE'].shift(periods=1, freq=pd.Timedelta(minutes=30))\n",
        "    vwap_data['price_1d_ago'] = vwap_data['MID_PRICE'].shift(periods=1, freq=pd.Timedelta(days=1))\n",
        "    vwap_data['price_30m_ago'] = vwap_data['price_30m_ago'].fillna(vwap_data['MID_PRICE'].iloc[0])\n",
        "    vwap_data['price_1d_ago'] = vwap_data['price_1d_ago'].fillna(vwap_data['MID_PRICE'].iloc[0])\n",
        "    vwap_data['r_30'] = (vwap_data['MID_PRICE'] - vwap_data['price_30m_ago']) / vwap_data['price_30m_ago']\n",
        "    vwap_data['r_1d'] = (vwap_data['MID_PRICE'] - vwap_data['price_1d_ago']) / vwap_data['price_1d_ago']\n",
        "    vwap_data.drop(columns=['price_30m_ago', 'price_1d_ago', 'ask_value', 'bid_value'], inplace=True)\n",
        "    return vwap_data\n",
        "\n",
        "def process_trades_data(trades_data):\n",
        "    \"\"\"Process trades data.\"\"\"\n",
        "    trades_data = trades_data.copy()\n",
        "    trades_data['time'] = pd.to_datetime(trades_data['time'])\n",
        "    trades_data = trades_data[['time', 'size', 'aggressor_side']]\n",
        "    trades_data.set_index('time', inplace=True)\n",
        "    trades_data.sort_index(inplace=True)\n",
        "    trades_data.fillna(method='ffill', inplace=True)\n",
        "    trades_data = trades_data[trades_data.index.weekday < 5]\n",
        "    trades_data = trades_data.between_time('10:00', '18:50')\n",
        "    trades_data['size'] = pd.to_numeric(trades_data['size'], errors='coerce')\n",
        "    trades_data['sell_size'] = trades_data['size'] * (trades_data['aggressor_side'] == 'SELL')\n",
        "    trades_data['buy_size'] = trades_data['size'] * (trades_data['aggressor_side'] == 'BUY')\n",
        "    trades_data.drop(columns=['aggressor_side'], inplace=True)\n",
        "    trades_data['S_30'] = trades_data['sell_size'].rolling('30min').sum().fillna(0)\n",
        "    trades_data['B_30'] = trades_data['buy_size'].rolling('30min').sum().fillna(0)\n",
        "    trades_data['S_1d'] = trades_data['sell_size'].rolling('24h').sum().fillna(0)\n",
        "    trades_data['B_1d'] = trades_data['buy_size'].rolling('24h').sum().fillna(0)\n",
        "    trades_data.drop(columns=['sell_size', 'buy_size', 'size'], inplace=True)\n",
        "    return trades_data\n",
        "\n",
        "def process_dataframe(df):\n",
        "    # Set column order\n",
        "    df = df.reindex(columns=['Time', 'MID_PRICE', 'r_30', 'r_1d', 'S_30', 'B_30', 'S_1d', 'B_1d'])\n",
        "    # Drop duplicates\n",
        "    df = df.drop_duplicates(['MID_PRICE', 'r_30', 'r_1d', 'S_30', 'B_30', 'S_1d', 'B_1d'])\n",
        "    df = df.drop_duplicates('Time', keep='last')\n",
        "    df = df.sort_values('Time')\n",
        "    df['Time'] = pd.to_datetime(df['Time'])\n",
        "    df = df.set_index('Time')\n",
        "\n",
        "    # Drop null values\n",
        "    df = df[df['MID_PRICE'].notna()]\n",
        "\n",
        "    df = df.loc[df.index.notna()]  # Remove NaT values from the index\n",
        "\n",
        "    # Add features\n",
        "    df['BS_ratio_30'] = df['B_30'] / df['S_30']\n",
        "    df['BS_ratio_1d'] = df['B_1d'] / df['S_1d']\n",
        "\n",
        "    df = df.ffill()\n",
        "    return df\n",
        "\n",
        "def main():\n",
        "    # Load initial 25 hours of data\n",
        "    now_dt = datetime.now(pytz.timezone(TIMEZONE))\n",
        "    start_dt = now_dt - timedelta(hours=25)\n",
        "    start_dt = start_dt.replace(second=0, microsecond=0)\n",
        "    end_dt = now_dt.replace(second=0, microsecond=0)\n",
        "\n",
        "    # Load initial data with retry logic\n",
        "    max_retries = 3\n",
        "    retry_count = 0\n",
        "    while retry_count < max_retries:\n",
        "        vwap_data_raw, trades_data_raw = download_data_in_chunks(symbol_name, start_dt, end_dt, CHUNK_SIZE_MINUTES)\n",
        "        if len(vwap_data_raw) == 0 or len(trades_data_raw) == 0:\n",
        "            retry_count += 1\n",
        "            LOGGER.error(f\"Empty DataFrame received (attempt {retry_count}/{max_retries})\")\n",
        "            time.sleep(5)  # Wait before retrying\n",
        "            continue\n",
        "        break  # Exit retry loop if we got data\n",
        "    if len(vwap_data_raw) == 0 or len(trades_data_raw) == 0:\n",
        "        LOGGER.error(\"Failed to load initial data after retries. Alarm.\")\n",
        "\n",
        "    print(f'len_vwap_data_raw={len(vwap_data_raw)}')\n",
        "    print(f'len_trades_data_raw={len(trades_data_raw)}')\n",
        "\n",
        "    # Periodically update the data (e.g., every 30 minutes)\n",
        "    while True:\n",
        "        now = datetime.now(pytz.timezone(TIMEZONE))\n",
        "        current_time = now.time()\n",
        "\n",
        "        # Check if we're in the inactive period (between 19:00 and 10:20)\n",
        "        inactive_period = (current_time >= time_class(19, 00)) or (current_time < time_class(10, 20))\n",
        "\n",
        "        # Check if it's time to send a signal (every 30 minutes)\n",
        "        if (now.minute == 0 or now.minute == 30) and now.second == 0:\n",
        "            try:\n",
        "                if inactive_period:\n",
        "                    # Send '0' signal during inactive period\n",
        "                    # signal = 0\n",
        "                    LOGGER.info(f\"{now.strftime('%Y-%m-%d %H:%M:%S')},0 (Inactive period)\")\n",
        "                else:\n",
        "                    # Active period - make predictions\n",
        "                    try:\n",
        "                        now_dt = datetime.now(pytz.timezone(TIMEZONE))\n",
        "                        start_dt = now_dt - timedelta(minutes=60)\n",
        "                        start_dt = start_dt.replace(second=0, microsecond=0)\n",
        "                        end_dt = now_dt.replace(second=0, microsecond=0)\n",
        "\n",
        "                        # Load data with retry logic\n",
        "                        retry_count = 0\n",
        "                        update_success = False\n",
        "                        while retry_count < max_retries and not update_success:\n",
        "                            vwap_data_update, trades_data_update = download_data_in_chunks(symbol_name, start_dt, end_dt, CHUNK_SIZE_MINUTES)\n",
        "                            if len(vwap_data_update) == 0 or len(trades_data_update) == 0:\n",
        "                                retry_count += 1\n",
        "                                LOGGER.error(f\"Empty update DataFrame received (attempt {retry_count}/{max_retries})\")\n",
        "                                time.sleep(2)\n",
        "                                continue\n",
        "                            update_success = True\n",
        "\n",
        "                        if not update_success:\n",
        "                            LOGGER.error(\"Failed to load update data after retries. Using previous data.\")\n",
        "\n",
        "                        print(f'len_vwap_data_update={len(vwap_data_update)}')\n",
        "                        print(f'len_trades_data_update={len(trades_data_update)}')\n",
        "\n",
        "                        # Process dataframes\n",
        "                        if not vwap_data_update.empty:\n",
        "                            vwap_data_raw = pd.concat([vwap_data_raw, vwap_data_update])\n",
        "                            vwap_data_raw = vwap_data_raw.drop_duplicates('time', keep='last')\n",
        "                            vwap_data_processed = process_vwap_data(vwap_data_raw)\n",
        "                        if not trades_data_update.empty:\n",
        "                            trades_data_raw = pd.concat([trades_data_raw, trades_data_update])\n",
        "                            trades_data_raw = trades_data_raw.drop_duplicates('trade_id', keep='last')\n",
        "                            trades_data_processed = process_trades_data(trades_data_raw)\n",
        "\n",
        "                        # Merge dataframes\n",
        "                        if not vwap_data_processed.empty and not trades_data_processed.empty:\n",
        "                            df = pd.merge_asof(vwap_data_processed, trades_data_processed, on='time', direction='backward')\n",
        "                            df = df.rename(columns={'time': 'Time'})\n",
        "                            df = df.fillna(0)\n",
        "                            if df is not None and not df.empty:\n",
        "                                # Process merged dataframe\n",
        "                                df = process_dataframe(df)\n",
        "                            print(f'len_df={len(df)}')\n",
        "                            # print(df)\n",
        "\n",
        "                        # Delete old data (keep only the last 24 hours)\n",
        "                        cutoff_time = now_dt - timedelta(hours=24)\n",
        "                        df = df[df.index >= cutoff_time]\n",
        "\n",
        "                        last_row = df.tail(1)\n",
        "\n",
        "                    except Exception as e:\n",
        "                        LOGGER.error(f\"Error parsing data: {e}\")\n",
        "                        time.sleep(60)\n",
        "                        continue\n",
        "\n",
        "                    # Predict price change\n",
        "                    preds_list = []\n",
        "                    for model in models_list:\n",
        "                        pred = model.predict(last_row)  # Use your prediction function\n",
        "                        pred = np.exp(pred) - 1\n",
        "                        preds_list.append(pred)\n",
        "\n",
        "                    mean_prediction = sum(preds_list) / len(preds_list)\n",
        "                    signal = mean_prediction[0]\n",
        "                    signal = normalize(signal)\n",
        "\n",
        "                # Write signal to Highway\n",
        "                hw.ContribBeginPacket()\n",
        "                hw.ContribDbl(TARGET_HW_TICKER, 'SIGNAL', signal)\n",
        "                hw.ContribEndPacket()\n",
        "\n",
        "                now = datetime.now()\n",
        "                LOGGER.info(f\"{now.strftime('%Y-%m-%d %H:%M:%S')},{signal}\")\n",
        "\n",
        "            except Exception as e:\n",
        "                LOGGER.error(f\"Error writing to Highway: {e}\")\n",
        "\n",
        "            time.sleep(60)  # sleep for 60 seconds\n",
        "        else:\n",
        "            time.sleep(1)  # sleep for 1 second\n",
        "\n",
        "if __name__ == \"__main__\":\n",
        "    main()"
      ],
      "metadata": {
        "id": "cx8LG1cVe7oB"
      },
      "execution_count": null,
      "outputs": []
    }
  ],
  "metadata": {
    "colab": {
      "name": "Overview of Colaboratory Features",
      "toc_visible": true,
      "provenance": [],
      "include_colab_link": true
    },
    "kernelspec": {
      "display_name": "Python 3",
      "name": "python3"
    }
  },
  "nbformat": 4,
  "nbformat_minor": 0
}